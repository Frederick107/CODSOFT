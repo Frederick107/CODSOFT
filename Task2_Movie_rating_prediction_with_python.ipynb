{
  "nbformat": 4,
  "nbformat_minor": 0,
  "metadata": {
    "colab": {
      "provenance": []
    },
    "kernelspec": {
      "name": "python3",
      "display_name": "Python 3"
    },
    "language_info": {
      "name": "python"
    }
  },
  "cells": [
    {
      "cell_type": "code",
      "execution_count": null,
      "metadata": {
        "id": "DE1jdn57y9yo"
      },
      "outputs": [],
      "source": [
        "from google.colab import files\n",
        "uploaded=files.upload"
      ]
    },
    {
      "cell_type": "code",
      "source": [
        "import pandas as pd\n",
        "import numpy as np\n",
        "\n",
        "import matplotlib.pyplot as plt\n",
        "import seaborn as sns\n",
        "\n",
        "from sklearn.linear_model import LinearRegression, Ridge\n",
        "from sklearn.ensemble import RandomForestRegressor\n",
        "from sklearn.tree import DecisionTreeRegressor\n",
        "from sklearn.model_selection import train_test_split, cross_val_score, KFold, GridSearchCV\n",
        "from sklearn.metrics import mean_squared_error, mean_absolute_error, r2_score\n",
        "\n",
        "import warnings\n",
        "warnings.filterwarnings('ignore')"
      ],
      "metadata": {
        "id": "uDwR_YBmztkn"
      },
      "execution_count": null,
      "outputs": []
    },
    {
      "cell_type": "code",
      "source": [
        "df = pd.read_csv('/kaggle/input/imdb-india-movies/IMDb Movies India.csv', encoding='latin1')\n",
        "df.head()"
      ],
      "metadata": {
        "id": "zfmqm0BizwXY"
      },
      "execution_count": null,
      "outputs": []
    },
    {
      "cell_type": "code",
      "source": [
        "df.shape"
      ],
      "metadata": {
        "id": "IXQqLl2iz01_"
      },
      "execution_count": null,
      "outputs": []
    },
    {
      "cell_type": "code",
      "source": [
        "df.info()"
      ],
      "metadata": {
        "id": "KuyrbmgZz3FK"
      },
      "execution_count": null,
      "outputs": []
    },
    {
      "cell_type": "code",
      "source": [
        "df.describe(include='all')"
      ],
      "metadata": {
        "id": "6lKIwySGz5f1"
      },
      "execution_count": null,
      "outputs": []
    },
    {
      "cell_type": "code",
      "source": [
        "df.isnull().sum()"
      ],
      "metadata": {
        "id": "voD5pYP_z6GX"
      },
      "execution_count": null,
      "outputs": []
    },
    {
      "cell_type": "code",
      "source": [
        "sns.heatmap(df.isnull());"
      ],
      "metadata": {
        "id": "_Y451p_az-r5"
      },
      "execution_count": null,
      "outputs": []
    },
    {
      "cell_type": "code",
      "source": [
        "missing_count = df.isnull().sum().sort_values(ascending=False)\n",
        "missing_percent = (round(df.isnull().sum()/df.isnull().count(), 4)*100).sort_values(ascending=False)\n",
        "missing_data = pd.concat([missing_count, missing_percent],\n",
        "                       axis=1,\n",
        "                       keys=['missing_count', 'missing_percent'])\n",
        "missing_data"
      ],
      "metadata": {
        "id": "gHYqHamp0BCK"
      },
      "execution_count": null,
      "outputs": []
    },
    {
      "cell_type": "code",
      "source": [
        "df.dropna(subset=['Rating'], inplace=True)\n",
        "\n",
        "(round(df.isnull().sum()/df.isnull().count(), 4)*100).sort_values(ascending=False)"
      ],
      "metadata": {
        "id": "w7tnN_Qg0C4_"
      },
      "execution_count": null,
      "outputs": []
    },
    {
      "cell_type": "code",
      "source": [
        "f.dropna(subset=['Director', 'Actor 1', 'Actor 2', 'Actor 3', 'Genre'], inplace=True)\n",
        "\n",
        "(round(df.isnull().sum()/df.isnull().count(), 4)*100).sort_values(ascending=False)"
      ],
      "metadata": {
        "id": "yM9mGWiN0FEL"
      },
      "execution_count": null,
      "outputs": []
    },
    {
      "cell_type": "code",
      "source": [
        "df['Duration'] = pd.to_numeric(df['Duration'].str.strip(' min'))\n",
        "df['Duration'].fillna(df['Duration'].mean(), inplace=True)\n",
        "\n",
        "df.isnull().sum()"
      ],
      "metadata": {
        "id": "YJ7e-Em60KuW"
      },
      "execution_count": null,
      "outputs": []
    },
    {
      "cell_type": "code",
      "source": [
        "df.drop_duplicates(inplace=True)\n",
        "df.shape"
      ],
      "metadata": {
        "id": "KdnxZgHM0M69"
      },
      "execution_count": null,
      "outputs": []
    },
    {
      "cell_type": "code",
      "source": [
        "df['Year'] = df['Year'].apply(lambda x: x.split(')')[0])\n",
        "\n",
        "year_lst = []\n",
        "for val in df['Year']:\n",
        "    if len(val.split('(')) == 1:\n",
        "        year_lst.append(val.split('(')[0])\n",
        "    elif len(val.split('(')) > 1:\n",
        "        year_lst.append(val.split('(')[1])\n",
        "df['Year'] = year_lst"
      ],
      "metadata": {
        "id": "Vb4tgaPE0Pyh"
      },
      "execution_count": null,
      "outputs": []
    },
    {
      "cell_type": "code",
      "source": [
        "df['Votes'] = df['Votes'].str.replace(',', '').astype(int)\n",
        "df['Year'] = df['Year'].astype(int)\n",
        "df.info()"
      ],
      "metadata": {
        "id": "UzwRqodO0ST4"
      },
      "execution_count": null,
      "outputs": []
    },
    {
      "cell_type": "code",
      "source": [
        "df['Year'].unique()"
      ],
      "metadata": {
        "id": "cPeLhIwR0VLN"
      },
      "execution_count": null,
      "outputs": []
    },
    {
      "cell_type": "code",
      "source": [
        "(df['Duration']>180).sum()"
      ],
      "metadata": {
        "id": "zrMe9qjQ0Ywq"
      },
      "execution_count": null,
      "outputs": []
    },
    {
      "cell_type": "code",
      "source": [
        "(df['Duration']<60).sum()"
      ],
      "metadata": {
        "id": "MsahXkdh0bAT"
      },
      "execution_count": null,
      "outputs": []
    },
    {
      "cell_type": "code",
      "source": [
        "df.info()"
      ],
      "metadata": {
        "id": "ub-KxeJ80dOF"
      },
      "execution_count": null,
      "outputs": []
    },
    {
      "cell_type": "code",
      "source": [
        "df[['Rating', 'Duration', 'Votes']].describe(percentiles=[0.75,0.8, 0.9, 0.95, 0.98])"
      ],
      "metadata": {
        "id": "IPUJvVv30d6E"
      },
      "execution_count": null,
      "outputs": []
    },
    {
      "cell_type": "code",
      "source": [
        "sns.violinplot(y=df['Duration'])\n",
        "plt.title('Spreadness of duration')\n",
        "plt.show()"
      ],
      "metadata": {
        "id": "1-ObSriH0hQ7"
      },
      "execution_count": null,
      "outputs": []
    },
    {
      "cell_type": "code",
      "source": [
        "sns.distplot(df['Duration'])\n",
        "plt.title('Distribution of duration')\n",
        "plt.show()\n"
      ],
      "metadata": {
        "id": "Hfv4X3-v0jz5"
      },
      "execution_count": null,
      "outputs": []
    },
    {
      "cell_type": "code",
      "source": [
        "sns.boxplot(x=df['Rating'])\n",
        "plt.title('Spreadness of rating')\n",
        "plt.show()"
      ],
      "metadata": {
        "id": "UlTMFiHe0mUz"
      },
      "execution_count": null,
      "outputs": []
    },
    {
      "cell_type": "code",
      "source": [
        "sns.distplot(df['Rating'])\n",
        "plt.title('Distribution of rating')\n",
        "plt.show()"
      ],
      "metadata": {
        "id": "37KQ_rnH0p5F"
      },
      "execution_count": null,
      "outputs": []
    },
    {
      "cell_type": "code",
      "source": [
        "sns.violinplot(y=df['Votes'])\n",
        "plt.title('Spreadness of votes')\n",
        "plt.show()\n"
      ],
      "metadata": {
        "id": "lRh2APrO0tU2"
      },
      "execution_count": null,
      "outputs": []
    },
    {
      "cell_type": "code",
      "source": [
        "sns.distplot(df['Votes'])\n",
        "plt.title('Distribution of votes')\n",
        "plt.show()"
      ],
      "metadata": {
        "id": "3QDru1xG0t5S"
      },
      "execution_count": null,
      "outputs": []
    },
    {
      "cell_type": "code",
      "source": [
        "df[df['Votes']>100000]"
      ],
      "metadata": {
        "id": "t1VCXrBc0wYV"
      },
      "execution_count": null,
      "outputs": []
    },
    {
      "cell_type": "code",
      "source": [
        "year_rating = df.groupby('Year').agg({'Rating': 'mean'}).reset_index().sort_values(by='Rating',\n",
        "                                                                     ascending=False,\n",
        "                                                                     )\n",
        "year_rating['Rating'] = round(year_rating['Rating'],1)\n",
        "\n",
        "plt.figure(figsize=(25,9))\n",
        "ax = sns.barplot(data=year_rating, x='Year', y='Rating')\n",
        "ax.bar_label(ax.containers[0])\n",
        "plt.title('Average rating per year')\n",
        "plt.xticks(rotation=90)\n",
        "plt.show()"
      ],
      "metadata": {
        "id": "9N1qXbNL0ylE"
      },
      "execution_count": null,
      "outputs": []
    },
    {
      "cell_type": "code",
      "source": [
        "year_count = df.groupby('Year').agg({'Name':'count'}).rename(columns={'Name':'count'}).\\\n",
        "                                        sort_values(by='count', ascending=False).reset_index()\n",
        "plt.figure(figsize=(20,8))\n",
        "ax = sns.barplot(data=year_count, x='Year', y='count')\n",
        "ax.bar_label(ax.containers[0])\n",
        "plt.title('Number of movie releases per year')\n",
        "plt.xticks(rotation=90)\n",
        "plt.show()"
      ],
      "metadata": {
        "id": "kaLDVvY303tx"
      },
      "execution_count": null,
      "outputs": []
    },
    {
      "cell_type": "code",
      "source": [
        "plt.figure(figsize=(20,8))\n",
        "ax = sns.lineplot(data=year_count, x='Year', y='count')\n",
        "plt.title('Number of movie releases per year')\n",
        "plt.xticks(rotation=90)\n",
        "plt.show()"
      ],
      "metadata": {
        "id": "Wdui9s5I069g"
      },
      "execution_count": null,
      "outputs": []
    },
    {
      "cell_type": "code",
      "source": [
        "genre_rate = df.groupby('Genre').agg({'Rating':'mean'}).sort_values(by='Rating', ascending=False)\\\n",
        "                                .reset_index().head(10)\n",
        "\n",
        "ax = sns.barplot(data=genre_rate, x='Rating', y='Genre', palette='gist_gray')\n",
        "ax.bar_label(ax.containers[0])\n",
        "plt.title('Top ten high average rated genre')\n",
        "plt.show()"
      ],
      "metadata": {
        "id": "cj4ttGy809-V"
      },
      "execution_count": null,
      "outputs": []
    },
    {
      "cell_type": "code",
      "source": [
        "director_rate = df.groupby('Director').agg({'Rating':'mean'}).sort_values(by='Rating', ascending=False)\\\n",
        "                                      .reset_index().head(10)\n",
        "\n",
        "ax = sns.barplot(data=director_rate, x='Rating', y='Director', palette='copper')\n",
        "ax.bar_label(ax.containers[0])\n",
        "plt.title('Top ten high average rated directors')\n",
        "plt.show()"
      ],
      "metadata": {
        "id": "9Bx3458Y1CDS"
      },
      "execution_count": null,
      "outputs": []
    },
    {
      "cell_type": "code",
      "source": [
        "actor1_rate = df.groupby('Actor 1').agg({'Rating':'mean'}).sort_values(by='Rating', ascending=False)\\\n",
        "                                      .reset_index().head(10)\n",
        "\n",
        "ax = sns.barplot(data=actor1_rate, x='Rating', y='Actor 1', palette='bone')\n",
        "ax.bar_label(ax.containers[0])\n",
        "plt.title('Top ten high average rated Actors')\n",
        "plt.show()\n"
      ],
      "metadata": {
        "id": "bMbiU4Yi1Eiz"
      },
      "execution_count": null,
      "outputs": []
    },
    {
      "cell_type": "code",
      "source": [
        "sns.scatterplot(data=df, x='Votes', y='Rating', size=0.1, alpha=0.5)\n",
        "plt.title('Relationship between rating and votes')\n",
        "plt.show()"
      ],
      "metadata": {
        "id": "fbO8aVUB1JyB"
      },
      "execution_count": null,
      "outputs": []
    },
    {
      "cell_type": "code",
      "source": [
        "sns.scatterplot(data=df, x='Duration', y='Rating', size=0.1, alpha=0.5)\n",
        "plt.title('Relationship between rating and duration')\n",
        "plt.show()\n"
      ],
      "metadata": {
        "id": "h2ozr1dE1MCz"
      },
      "execution_count": null,
      "outputs": []
    },
    {
      "cell_type": "code",
      "source": [
        "sns.pairplot(df[['Votes', 'Rating', 'Duration']]);"
      ],
      "metadata": {
        "id": "0JJ54Y1_1Mx1"
      },
      "execution_count": null,
      "outputs": []
    },
    {
      "cell_type": "code",
      "source": [
        "plt.figure(figsize=(20,8))\n",
        "sns.boxplot(data=df, x='Year', y='Rating')\n",
        "plt.title('Spreadness of rating per year')\n",
        "plt.xticks(rotation=90)\n",
        "plt.show()"
      ],
      "metadata": {
        "id": "jZGjkCTe1PUI"
      },
      "execution_count": null,
      "outputs": []
    },
    {
      "cell_type": "code",
      "source": [
        "df_update = df.drop(['Name'], axis=1)"
      ],
      "metadata": {
        "id": "USEVYqGN1R3w"
      },
      "execution_count": null,
      "outputs": []
    },
    {
      "cell_type": "code",
      "source": [
        "df_update.info()"
      ],
      "metadata": {
        "id": "AZNnvAmq1euU"
      },
      "execution_count": null,
      "outputs": []
    },
    {
      "cell_type": "code",
      "source": [
        "actor1_encoding_map = df_update.groupby('Actor 1').agg({'Rating': 'mean'}).to_dict()\n",
        "actor2_encoding_map = df_update.groupby('Actor 2').agg({'Rating': 'mean'}).to_dict()\n",
        "actor3_encoding_map = df_update.groupby('Actor 3').agg({'Rating': 'mean'}).to_dict()\n",
        "director_encoding_map = df_update.groupby('Director').agg({'Rating': 'mean'}).to_dict()\n",
        "genre_encoding_map = df_update.groupby('Genre').agg({'Rating': 'mean'}).to_dict()"
      ],
      "metadata": {
        "id": "d5AD24Pz1hV_"
      },
      "execution_count": null,
      "outputs": []
    },
    {
      "cell_type": "code",
      "source": [
        "df_update['actor1_encoded'] = round(df_update['Actor 1'].map(actor1_encoding_map['Rating']),1)\n",
        "df_update['actor2_encoded'] = round(df_update['Actor 2'].map(actor2_encoding_map['Rating']),1)\n",
        "df_update['actor3_encoded'] = round(df_update['Actor 3'].map(actor3_encoding_map['Rating']),1)\n",
        "df_update['director_encoded'] = round(df_update['Director'].map(director_encoding_map['Rating']),1)\n",
        "df_update['genre_encoded'] = round(df_update['Genre'].map(genre_encoding_map['Rating']),1)"
      ],
      "metadata": {
        "id": "5U9rCdk41vR-"
      },
      "execution_count": null,
      "outputs": []
    },
    {
      "cell_type": "code",
      "source": [
        "df_update.drop(['Actor 1', 'Actor 2', 'Actor 3', 'Director', 'Genre'], axis=1, inplace=True)\n",
        "df_update.head()"
      ],
      "metadata": {
        "id": "R0ciZlYi1yG6"
      },
      "execution_count": null,
      "outputs": []
    },
    {
      "cell_type": "code",
      "source": [
        "sns.heatmap(df_update.corr(), annot=True, cmap='RdYlBu')\n",
        "plt.title('Correlation')\n",
        "plt.show()"
      ],
      "metadata": {
        "id": "VKc7hfJf1z4U"
      },
      "execution_count": null,
      "outputs": []
    },
    {
      "cell_type": "code",
      "source": [
        "X = df_update.drop('Rating', axis=1)\n",
        "y = df_update['Rating']\n",
        "\n",
        "X.head()"
      ],
      "metadata": {
        "id": "REGGFgQo14KG"
      },
      "execution_count": null,
      "outputs": []
    },
    {
      "cell_type": "code",
      "source": [
        "X_train, X_test, y_train, y_test = train_test_split(X, y, test_size=0.2, random_state=42)"
      ],
      "metadata": {
        "id": "KLli5qkn16hg"
      },
      "execution_count": null,
      "outputs": []
    },
    {
      "cell_type": "code",
      "source": [
        "print('Shape of training features: ', X_train.shape)\n",
        "print('Shape of training target: ', y_train.shape)\n",
        "print('Shape of testing features: ', X_test.shape)\n",
        "print('Shape of testing target: ', y_test.shape)"
      ],
      "metadata": {
        "id": "Tv0eLar32A5h"
      },
      "execution_count": null,
      "outputs": []
    },
    {
      "cell_type": "code",
      "source": [
        "LR = LinearRegression()\n",
        "LR.fit(X_train, y_train)\n",
        "print('Coefficient of determination: ', LR.score(X_train, y_train))"
      ],
      "metadata": {
        "id": "orOGtQiG2B8V"
      },
      "execution_count": null,
      "outputs": []
    },
    {
      "cell_type": "code",
      "source": [
        "y_pred_LR = LR.predict(X_test)\n",
        "\n",
        "print('R^2: ', r2_score(y_test, y_pred_LR))\n",
        "print('MAE: ',mean_absolute_error(y_test, y_pred_LR))\n",
        "print('MSE: ', mean_squared_error(y_test, y_pred_LR))\n",
        "print('RMSE: ', np.sqrt(mean_squared_error(y_test, y_pred_LR)))"
      ],
      "metadata": {
        "id": "ad7JkG2e2E4b"
      },
      "execution_count": null,
      "outputs": []
    },
    {
      "cell_type": "code",
      "source": [
        "results = pd.DataFrame({'actual': y_test,\n",
        "                        'predicted': y_pred_LR.ravel(),\n",
        "                        'residual': y_test - y_pred_LR}\n",
        "                      )\n",
        "results.head()"
      ],
      "metadata": {
        "id": "G8XSjgGD2HI5"
      },
      "execution_count": null,
      "outputs": []
    },
    {
      "cell_type": "code",
      "source": [
        "sns.scatterplot(x=results['actual'], y=results['predicted'])\n",
        "plt.title('Actual vs Predicted values')\n",
        "plt.show()"
      ],
      "metadata": {
        "id": "lZaM6W092JST"
      },
      "execution_count": null,
      "outputs": []
    },
    {
      "cell_type": "code",
      "source": [
        "sns.histplot(results['residual'], bins=np.arange(-3,3,0.5))\n",
        "plt.title('Histogram of residuals')\n",
        "plt.show()"
      ],
      "metadata": {
        "id": "r9TAUFzI2LmZ"
      },
      "execution_count": null,
      "outputs": []
    },
    {
      "cell_type": "code",
      "source": [
        "results['residual'].mean()"
      ],
      "metadata": {
        "id": "Iualiv4U2OSH"
      },
      "execution_count": null,
      "outputs": []
    },
    {
      "cell_type": "code",
      "source": [
        "sns.scatterplot(x=results['predicted'], y=results['residual'])\n",
        "plt.axhline(0, c='red')\n",
        "plt.title('Scatterplot of residuals over predicted')\n",
        "plt.show()"
      ],
      "metadata": {
        "id": "WSe92kYi2QGw"
      },
      "execution_count": null,
      "outputs": []
    },
    {
      "cell_type": "code",
      "source": [
        "coefficients = pd.DataFrame(LR.coef_, index=X.columns).T\n",
        "coefficients"
      ],
      "metadata": {
        "id": "hoofHuMm2U9Q"
      },
      "execution_count": null,
      "outputs": []
    },
    {
      "cell_type": "code",
      "source": [
        "LR_cv = LinearRegression()\n",
        "\n",
        "k = 5\n",
        "cv = KFold(n_splits=k, shuffle=True, random_state=42)\n",
        "\n",
        "scores = cross_val_score(LR_cv, X, y, cv=cv, scoring='r2')\n",
        "\n",
        "print(\"R^2 scores:\", scores)\n",
        "print(\"Mean R^2:\", scores.mean())\n",
        "print(\"Standard Deviation of R^2:\", scores.std())"
      ],
      "metadata": {
        "id": "t0UqtyKZ2XDY"
      },
      "execution_count": null,
      "outputs": []
    },
    {
      "cell_type": "code",
      "source": [
        "RR = Ridge()\n",
        "param_grid = {'alpha': [0.01, 0.1, 1, 10, 100]}\n",
        "grid_search_RR = GridSearchCV(RR, param_grid, cv=5, scoring='r2')\n",
        "grid_search_RR.fit(X_train, y_train)\n",
        "grid_search_RR.best_params_\n"
      ],
      "metadata": {
        "id": "0L852qoe2uZz"
      },
      "execution_count": null,
      "outputs": []
    },
    {
      "cell_type": "code",
      "source": [
        "y_pred_RR = grid_search_RR.predict(X_test)\n",
        "\n",
        "print('R^2: ', r2_score(y_test, y_pred_RR))\n",
        "print('MAE: ',mean_absolute_error(y_test, y_pred_RR))\n",
        "print('MSE: ', mean_squared_error(y_test, y_pred_RR))\n",
        "print('RMSE: ', np.sqrt(mean_squared_error(y_test, y_pred_RR)))"
      ],
      "metadata": {
        "id": "4opzusTp3eCc"
      },
      "execution_count": null,
      "outputs": []
    },
    {
      "cell_type": "code",
      "source": [
        "tree = DecisionTreeRegressor(random_state=0)\n",
        "param_grid = {'max_depth': [None, 10, 20, 30]}\n",
        "grid_search_tree = GridSearchCV(tree, param_grid, cv=5, scoring='r2')\n",
        "grid_search_tree.fit(X_train, y_train)\n",
        "\n",
        "grid_search_tree.best_params_"
      ],
      "metadata": {
        "id": "j4SaaFLZ3gg7"
      },
      "execution_count": null,
      "outputs": []
    },
    {
      "cell_type": "code",
      "source": [
        "y_pred_tree = grid_search_tree.predict(X_test)\n",
        "\n",
        "print('R^2: ', r2_score(y_test, y_pred_tree))\n",
        "print('MAE: ',mean_absolute_error(y_test, y_pred_tree))\n",
        "print('MSE: ', mean_squared_error(y_test, y_pred_tree))\n",
        "print('RMSE: ', np.sqrt(mean_squared_error(y_test, y_pred_tree)))"
      ],
      "metadata": {
        "id": "lLEwdqe-3pIm"
      },
      "execution_count": null,
      "outputs": []
    },
    {
      "cell_type": "code",
      "source": [
        "RF = RandomForestRegressor(random_state=0)\n",
        "param_grid = {'min_samples_leaf': [1, 3, 5]}\n",
        "grid_search_RF = GridSearchCV(RF, param_grid, cv=5, scoring='r2')\n",
        "grid_search_RF.fit(X_train, y_train)\n",
        "\n",
        "grid_search_RF.best_params_"
      ],
      "metadata": {
        "id": "pCBc3r363pwq"
      },
      "execution_count": null,
      "outputs": []
    },
    {
      "cell_type": "code",
      "source": [
        "y_pred_RF = grid_search_RF.predict(X_test)\n",
        "\n",
        "print('R^2: ', r2_score(y_test, y_pred_RF))\n",
        "print('MAE: ',mean_absolute_error(y_test, y_pred_RF))\n",
        "print('MSE: ', mean_squared_error(y_test, y_pred_RF))\n",
        "print('RMSE: ', np.sqrt(mean_squared_error(y_test, y_pred_RF)))"
      ],
      "metadata": {
        "id": "FUbYpHD93wMo"
      },
      "execution_count": null,
      "outputs": []
    }
  ]
}